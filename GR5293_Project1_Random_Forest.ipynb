{
 "cells": [
  {
   "cell_type": "code",
   "execution_count": 1,
   "id": "2c38b247",
   "metadata": {},
   "outputs": [],
   "source": [
    "import pandas as pd\n",
    "import numpy as np\n",
    "import seaborn as sns\n",
    "import matplotlib.pyplot as plt\n",
    "sns.set_style('darkgrid')\n",
    "\n",
    "\n",
    "%matplotlib inline"
   ]
  },
  {
   "cell_type": "code",
   "execution_count": 2,
   "id": "dc2bd4ce",
   "metadata": {},
   "outputs": [],
   "source": [
    "df = pd.read_csv(\"bank_marketing_data.csv\")"
   ]
  },
  {
   "cell_type": "code",
   "execution_count": 3,
   "id": "327bad18",
   "metadata": {},
   "outputs": [
    {
     "data": {
      "text/plain": [
       "(41188, 21)"
      ]
     },
     "execution_count": 3,
     "metadata": {},
     "output_type": "execute_result"
    }
   ],
   "source": [
    "df.shape"
   ]
  },
  {
   "cell_type": "code",
   "execution_count": 4,
   "id": "13a7146c",
   "metadata": {},
   "outputs": [
    {
     "name": "stdout",
     "output_type": "stream",
     "text": [
      "<class 'pandas.core.frame.DataFrame'>\n",
      "RangeIndex: 41188 entries, 0 to 41187\n",
      "Data columns (total 21 columns):\n",
      " #   Column          Non-Null Count  Dtype  \n",
      "---  ------          --------------  -----  \n",
      " 0   age             41188 non-null  int64  \n",
      " 1   job             41188 non-null  object \n",
      " 2   marital         41188 non-null  object \n",
      " 3   education       41188 non-null  object \n",
      " 4   default         41188 non-null  object \n",
      " 5   housing         41188 non-null  object \n",
      " 6   loan            41188 non-null  object \n",
      " 7   contact         41188 non-null  object \n",
      " 8   month           41188 non-null  object \n",
      " 9   day_of_week     41188 non-null  object \n",
      " 10  duration        41188 non-null  int64  \n",
      " 11  campaign        41188 non-null  int64  \n",
      " 12  pdays           41188 non-null  int64  \n",
      " 13  previous        41188 non-null  int64  \n",
      " 14  poutcome        41188 non-null  object \n",
      " 15  emp.var.rate    41188 non-null  float64\n",
      " 16  cons.price.idx  41188 non-null  float64\n",
      " 17  cons.conf.idx   41188 non-null  float64\n",
      " 18  euribor3m       41188 non-null  float64\n",
      " 19  nr.employed     41188 non-null  float64\n",
      " 20  y               41188 non-null  object \n",
      "dtypes: float64(5), int64(5), object(11)\n",
      "memory usage: 6.6+ MB\n"
     ]
    }
   ],
   "source": [
    "df.info()"
   ]
  },
  {
   "cell_type": "code",
   "execution_count": 5,
   "id": "ea4a3257",
   "metadata": {},
   "outputs": [
    {
     "data": {
      "text/html": [
       "<div>\n",
       "<style scoped>\n",
       "    .dataframe tbody tr th:only-of-type {\n",
       "        vertical-align: middle;\n",
       "    }\n",
       "\n",
       "    .dataframe tbody tr th {\n",
       "        vertical-align: top;\n",
       "    }\n",
       "\n",
       "    .dataframe thead th {\n",
       "        text-align: right;\n",
       "    }\n",
       "</style>\n",
       "<table border=\"1\" class=\"dataframe\">\n",
       "  <thead>\n",
       "    <tr style=\"text-align: right;\">\n",
       "      <th></th>\n",
       "      <th>age</th>\n",
       "      <th>job</th>\n",
       "      <th>marital</th>\n",
       "      <th>education</th>\n",
       "      <th>default</th>\n",
       "      <th>housing</th>\n",
       "      <th>loan</th>\n",
       "      <th>contact</th>\n",
       "      <th>month</th>\n",
       "      <th>day_of_week</th>\n",
       "      <th>...</th>\n",
       "      <th>campaign</th>\n",
       "      <th>pdays</th>\n",
       "      <th>previous</th>\n",
       "      <th>poutcome</th>\n",
       "      <th>emp.var.rate</th>\n",
       "      <th>cons.price.idx</th>\n",
       "      <th>cons.conf.idx</th>\n",
       "      <th>euribor3m</th>\n",
       "      <th>nr.employed</th>\n",
       "      <th>y</th>\n",
       "    </tr>\n",
       "  </thead>\n",
       "  <tbody>\n",
       "    <tr>\n",
       "      <th>0</th>\n",
       "      <td>56</td>\n",
       "      <td>housemaid</td>\n",
       "      <td>married</td>\n",
       "      <td>basic.4y</td>\n",
       "      <td>no</td>\n",
       "      <td>no</td>\n",
       "      <td>no</td>\n",
       "      <td>telephone</td>\n",
       "      <td>may</td>\n",
       "      <td>mon</td>\n",
       "      <td>...</td>\n",
       "      <td>1</td>\n",
       "      <td>999</td>\n",
       "      <td>0</td>\n",
       "      <td>nonexistent</td>\n",
       "      <td>1.1</td>\n",
       "      <td>93.994</td>\n",
       "      <td>-36.4</td>\n",
       "      <td>4.857</td>\n",
       "      <td>5191.0</td>\n",
       "      <td>no</td>\n",
       "    </tr>\n",
       "    <tr>\n",
       "      <th>1</th>\n",
       "      <td>57</td>\n",
       "      <td>services</td>\n",
       "      <td>married</td>\n",
       "      <td>high.school</td>\n",
       "      <td>unknown</td>\n",
       "      <td>no</td>\n",
       "      <td>no</td>\n",
       "      <td>telephone</td>\n",
       "      <td>may</td>\n",
       "      <td>mon</td>\n",
       "      <td>...</td>\n",
       "      <td>1</td>\n",
       "      <td>999</td>\n",
       "      <td>0</td>\n",
       "      <td>nonexistent</td>\n",
       "      <td>1.1</td>\n",
       "      <td>93.994</td>\n",
       "      <td>-36.4</td>\n",
       "      <td>4.857</td>\n",
       "      <td>5191.0</td>\n",
       "      <td>no</td>\n",
       "    </tr>\n",
       "    <tr>\n",
       "      <th>2</th>\n",
       "      <td>37</td>\n",
       "      <td>services</td>\n",
       "      <td>married</td>\n",
       "      <td>high.school</td>\n",
       "      <td>no</td>\n",
       "      <td>yes</td>\n",
       "      <td>no</td>\n",
       "      <td>telephone</td>\n",
       "      <td>may</td>\n",
       "      <td>mon</td>\n",
       "      <td>...</td>\n",
       "      <td>1</td>\n",
       "      <td>999</td>\n",
       "      <td>0</td>\n",
       "      <td>nonexistent</td>\n",
       "      <td>1.1</td>\n",
       "      <td>93.994</td>\n",
       "      <td>-36.4</td>\n",
       "      <td>4.857</td>\n",
       "      <td>5191.0</td>\n",
       "      <td>no</td>\n",
       "    </tr>\n",
       "    <tr>\n",
       "      <th>3</th>\n",
       "      <td>40</td>\n",
       "      <td>admin.</td>\n",
       "      <td>married</td>\n",
       "      <td>basic.6y</td>\n",
       "      <td>no</td>\n",
       "      <td>no</td>\n",
       "      <td>no</td>\n",
       "      <td>telephone</td>\n",
       "      <td>may</td>\n",
       "      <td>mon</td>\n",
       "      <td>...</td>\n",
       "      <td>1</td>\n",
       "      <td>999</td>\n",
       "      <td>0</td>\n",
       "      <td>nonexistent</td>\n",
       "      <td>1.1</td>\n",
       "      <td>93.994</td>\n",
       "      <td>-36.4</td>\n",
       "      <td>4.857</td>\n",
       "      <td>5191.0</td>\n",
       "      <td>no</td>\n",
       "    </tr>\n",
       "    <tr>\n",
       "      <th>4</th>\n",
       "      <td>56</td>\n",
       "      <td>services</td>\n",
       "      <td>married</td>\n",
       "      <td>high.school</td>\n",
       "      <td>no</td>\n",
       "      <td>no</td>\n",
       "      <td>yes</td>\n",
       "      <td>telephone</td>\n",
       "      <td>may</td>\n",
       "      <td>mon</td>\n",
       "      <td>...</td>\n",
       "      <td>1</td>\n",
       "      <td>999</td>\n",
       "      <td>0</td>\n",
       "      <td>nonexistent</td>\n",
       "      <td>1.1</td>\n",
       "      <td>93.994</td>\n",
       "      <td>-36.4</td>\n",
       "      <td>4.857</td>\n",
       "      <td>5191.0</td>\n",
       "      <td>no</td>\n",
       "    </tr>\n",
       "  </tbody>\n",
       "</table>\n",
       "<p>5 rows × 21 columns</p>\n",
       "</div>"
      ],
      "text/plain": [
       "   age        job  marital    education  default housing loan    contact  \\\n",
       "0   56  housemaid  married     basic.4y       no      no   no  telephone   \n",
       "1   57   services  married  high.school  unknown      no   no  telephone   \n",
       "2   37   services  married  high.school       no     yes   no  telephone   \n",
       "3   40     admin.  married     basic.6y       no      no   no  telephone   \n",
       "4   56   services  married  high.school       no      no  yes  telephone   \n",
       "\n",
       "  month day_of_week  ...  campaign  pdays  previous     poutcome emp.var.rate  \\\n",
       "0   may         mon  ...         1    999         0  nonexistent          1.1   \n",
       "1   may         mon  ...         1    999         0  nonexistent          1.1   \n",
       "2   may         mon  ...         1    999         0  nonexistent          1.1   \n",
       "3   may         mon  ...         1    999         0  nonexistent          1.1   \n",
       "4   may         mon  ...         1    999         0  nonexistent          1.1   \n",
       "\n",
       "   cons.price.idx  cons.conf.idx  euribor3m  nr.employed   y  \n",
       "0          93.994          -36.4      4.857       5191.0  no  \n",
       "1          93.994          -36.4      4.857       5191.0  no  \n",
       "2          93.994          -36.4      4.857       5191.0  no  \n",
       "3          93.994          -36.4      4.857       5191.0  no  \n",
       "4          93.994          -36.4      4.857       5191.0  no  \n",
       "\n",
       "[5 rows x 21 columns]"
      ]
     },
     "execution_count": 5,
     "metadata": {},
     "output_type": "execute_result"
    }
   ],
   "source": [
    "df.head()"
   ]
  },
  {
   "cell_type": "markdown",
   "id": "1791a433",
   "metadata": {},
   "source": [
    "### Check if there are duplicates and delete duplicates if needed."
   ]
  },
  {
   "cell_type": "code",
   "execution_count": 6,
   "id": "0658c1e7",
   "metadata": {},
   "outputs": [
    {
     "data": {
      "text/plain": [
       "12"
      ]
     },
     "execution_count": 6,
     "metadata": {},
     "output_type": "execute_result"
    }
   ],
   "source": [
    "df.duplicated().sum()"
   ]
  },
  {
   "cell_type": "code",
   "execution_count": 7,
   "id": "478ee19e",
   "metadata": {},
   "outputs": [],
   "source": [
    "df.drop_duplicates(keep=\"first\", inplace=True)"
   ]
  },
  {
   "cell_type": "code",
   "execution_count": 8,
   "id": "3e7b0655",
   "metadata": {},
   "outputs": [],
   "source": [
    "assert df.shape[0]==41188-12"
   ]
  },
  {
   "cell_type": "markdown",
   "id": "9c4dd1f7",
   "metadata": {},
   "source": [
    "### Check if there are missing values"
   ]
  },
  {
   "cell_type": "code",
   "execution_count": 9,
   "id": "65b675b7",
   "metadata": {},
   "outputs": [
    {
     "data": {
      "text/plain": [
       "age               0\n",
       "job               0\n",
       "marital           0\n",
       "education         0\n",
       "default           0\n",
       "housing           0\n",
       "loan              0\n",
       "contact           0\n",
       "month             0\n",
       "day_of_week       0\n",
       "duration          0\n",
       "campaign          0\n",
       "pdays             0\n",
       "previous          0\n",
       "poutcome          0\n",
       "emp.var.rate      0\n",
       "cons.price.idx    0\n",
       "cons.conf.idx     0\n",
       "euribor3m         0\n",
       "nr.employed       0\n",
       "y                 0\n",
       "dtype: int64"
      ]
     },
     "execution_count": 9,
     "metadata": {},
     "output_type": "execute_result"
    }
   ],
   "source": [
    "df.isna().sum()"
   ]
  },
  {
   "cell_type": "markdown",
   "id": "36591927",
   "metadata": {},
   "source": [
    "## Analysis of Categorical Predictors"
   ]
  },
  {
   "cell_type": "code",
   "execution_count": 10,
   "id": "8d083901",
   "metadata": {},
   "outputs": [],
   "source": [
    "cate_predictors=[\"job\", \"marital\", \"education\", \"default\", \"housing\", \"loan\", \"contact\", \"month\", \n",
    "                 \"day_of_week\", \"poutcome\"]"
   ]
  },
  {
   "cell_type": "code",
   "execution_count": 11,
   "id": "d696016d",
   "metadata": {
    "scrolled": false
   },
   "outputs": [
    {
     "name": "stdout",
     "output_type": "stream",
     "text": [
      "job has values: \n",
      " ['housemaid' 'services' 'admin.' 'blue-collar' 'technician' 'retired'\n",
      " 'management' 'unemployed' 'self-employed' 'unknown' 'entrepreneur'\n",
      " 'student']\n",
      "Count different values in job:\n",
      " admin.           10419\n",
      "blue-collar       9253\n",
      "technician        6739\n",
      "services          3967\n",
      "management        2924\n",
      "retired           1718\n",
      "entrepreneur      1456\n",
      "self-employed     1421\n",
      "housemaid         1060\n",
      "unemployed        1014\n",
      "student            875\n",
      "unknown            330\n",
      "Name: job, dtype: int64\n",
      "------------------------------------------------------------\n",
      "marital has values: \n",
      " ['married' 'single' 'divorced' 'unknown']\n",
      "Count different values in marital:\n",
      " married     24921\n",
      "single      11564\n",
      "divorced     4611\n",
      "unknown        80\n",
      "Name: marital, dtype: int64\n",
      "------------------------------------------------------------\n",
      "education has values: \n",
      " ['basic.4y' 'high.school' 'basic.6y' 'basic.9y' 'professional.course'\n",
      " 'unknown' 'university.degree' 'illiterate']\n",
      "Count different values in education:\n",
      " university.degree      12164\n",
      "high.school             9512\n",
      "basic.9y                6045\n",
      "professional.course     5240\n",
      "basic.4y                4176\n",
      "basic.6y                2291\n",
      "unknown                 1730\n",
      "illiterate                18\n",
      "Name: education, dtype: int64\n",
      "------------------------------------------------------------\n",
      "default has values: \n",
      " ['no' 'unknown' 'yes']\n",
      "Count different values in default:\n",
      " no         32577\n",
      "unknown     8596\n",
      "yes            3\n",
      "Name: default, dtype: int64\n",
      "------------------------------------------------------------\n",
      "housing has values: \n",
      " ['no' 'yes' 'unknown']\n",
      "Count different values in housing:\n",
      " yes        21571\n",
      "no         18615\n",
      "unknown      990\n",
      "Name: housing, dtype: int64\n",
      "------------------------------------------------------------\n",
      "loan has values: \n",
      " ['no' 'yes' 'unknown']\n",
      "Count different values in loan:\n",
      " no         33938\n",
      "yes         6248\n",
      "unknown      990\n",
      "Name: loan, dtype: int64\n",
      "------------------------------------------------------------\n",
      "contact has values: \n",
      " ['telephone' 'cellular']\n",
      "Count different values in contact:\n",
      " cellular     26135\n",
      "telephone    15041\n",
      "Name: contact, dtype: int64\n",
      "------------------------------------------------------------\n",
      "month has values: \n",
      " ['may' 'jun' 'jul' 'aug' 'oct' 'nov' 'dec' 'mar' 'apr' 'sep']\n",
      "Count different values in month:\n",
      " may    13767\n",
      "jul     7169\n",
      "aug     6176\n",
      "jun     5318\n",
      "nov     4100\n",
      "apr     2631\n",
      "oct      717\n",
      "sep      570\n",
      "mar      546\n",
      "dec      182\n",
      "Name: month, dtype: int64\n",
      "------------------------------------------------------------\n",
      "day_of_week has values: \n",
      " ['mon' 'tue' 'wed' 'thu' 'fri']\n",
      "Count different values in day_of_week:\n",
      " thu    8618\n",
      "mon    8512\n",
      "wed    8134\n",
      "tue    8086\n",
      "fri    7826\n",
      "Name: day_of_week, dtype: int64\n",
      "------------------------------------------------------------\n",
      "poutcome has values: \n",
      " ['nonexistent' 'failure' 'success']\n",
      "Count different values in poutcome:\n",
      " nonexistent    35551\n",
      "failure         4252\n",
      "success         1373\n",
      "Name: poutcome, dtype: int64\n",
      "------------------------------------------------------------\n"
     ]
    }
   ],
   "source": [
    "for key in cate_predictors:\n",
    "    print(f\"{key} has values: \\n {df[key].unique()}\")\n",
    "    print(f\"Count different values in {key}:\\n {df[key].value_counts()}\")\n",
    "    print(\"------------------------------------------------------------\")"
   ]
  },
  {
   "cell_type": "markdown",
   "id": "faa5aa2a",
   "metadata": {},
   "source": [
    "### marital, contact, housing, loan"
   ]
  },
  {
   "cell_type": "code",
   "execution_count": 12,
   "id": "66535463",
   "metadata": {},
   "outputs": [],
   "source": [
    "df.default.replace(\"yes\", \"other\", inplace=True)\n",
    "df.default.replace(\"unknown\", \"other\", inplace=True)"
   ]
  },
  {
   "cell_type": "code",
   "execution_count": 13,
   "id": "b0961952",
   "metadata": {},
   "outputs": [
    {
     "data": {
      "image/png": "[encoded data removed]",
      "text/plain": [
       "<Figure size 864x864 with 6 Axes>"
      ]
     },
     "metadata": {
      "needs_background": "light"
     },
     "output_type": "display_data"
    }
   ],
   "source": [
    "fig, ax= plt.subplots(3,2, figsize=(12,12))\n",
    "sns.countplot(x=\"marital\", hue=\"y\",data=df, order=df.marital.value_counts().index, ax=ax[0][0])\n",
    "ax[0][0].set_title(\"Distribution of marital status and y\")\n",
    "sns.countplot(x=\"contact\", hue=\"y\",data=df, order=df.contact.value_counts().index, ax=ax[0][1])\n",
    "ax[0][1].set_title(\"Distribution of contact type and y\")\n",
    "sns.countplot(x=\"housing\", hue=\"y\",data=df, order=df.housing.value_counts().index, ax=ax[1][0])\n",
    "ax[1][0].set_title(\"Distribution of housing loan and y\")\n",
    "sns.countplot(x=\"loan\", hue=\"y\",data=df, order=df.loan.value_counts().index, ax=ax[1][1])\n",
    "ax[1][1].set_title(\"Distribution of personal loan and y\")\n",
    "sns.countplot(x=\"default\", hue=\"y\",data=df, order=df.default.value_counts().index, ax=ax[2][0])\n",
    "ax[2][0].set_title(\"Distribution of default and y\")\n",
    "sns.countplot(x=\"poutcome\", hue=\"y\",data=df, order=df.poutcome.value_counts().index, ax=ax[2][1])\n",
    "ax[2][1].set_title(\"Distribution of poutcome and y\")\n",
    "plt.subplots_adjust(wspace=0.3, hspace=0.4);"
   ]
  },
  {
   "cell_type": "code",
   "execution_count": 14,
   "id": "7c192c21",
   "metadata": {},
   "outputs": [
    {
     "data": {
      "text/plain": [
       "no       32577\n",
       "other     8599\n",
       "Name: default, dtype: int64"
      ]
     },
     "execution_count": 14,
     "metadata": {},
     "output_type": "execute_result"
    }
   ],
   "source": [
    "df.default.value_counts()"
   ]
  },
  {
   "cell_type": "markdown",
   "id": "74d03601",
   "metadata": {},
   "source": [
    "### job, education"
   ]
  },
  {
   "cell_type": "code",
   "execution_count": 15,
   "id": "d64381a4",
   "metadata": {},
   "outputs": [
    {
     "data": {
      "image/png": "[encoded data removed]",
      "text/plain": [
       "<Figure size 864x720 with 2 Axes>"
      ]
     },
     "metadata": {
      "needs_background": "light"
     },
     "output_type": "display_data"
    }
   ],
   "source": [
    "fig, ax= plt.subplots(2,1, figsize=(12,10))\n",
    "sns.countplot(x=\"job\", hue=\"y\",data=df, order=df.job.value_counts().index, ax=ax[0])\n",
    "ax[0].set_title(\"Distribution of job and y\")\n",
    "sns.countplot(x=\"education\", hue=\"y\",data=df, order=df.education.value_counts().index, ax=ax[1])\n",
    "ax[0].set_title(\"Distribution of education and y\");"
   ]
  },
  {
   "cell_type": "markdown",
   "id": "9234a36d",
   "metadata": {},
   "source": [
    "### month, day_of_week"
   ]
  },
  {
   "cell_type": "code",
   "execution_count": 16,
   "id": "2270a545",
   "metadata": {},
   "outputs": [
    {
     "data": {
      "image/png": "[encoded data removed]",
      "text/plain": [
       "<Figure size 720x720 with 2 Axes>"
      ]
     },
     "metadata": {
      "needs_background": "light"
     },
     "output_type": "display_data"
    }
   ],
   "source": [
    "fig, ax= plt.subplots(2,1, figsize=(10,10))\n",
    "sns.countplot(x=\"month\", hue=\"y\",data=df, order=df.month.value_counts().index, ax=ax[0])\n",
    "ax[0].set_title(\"Distribution of month and y\")\n",
    "sns.countplot(x=\"day_of_week\", hue=\"y\",data=df, order=df.day_of_week.value_counts().index, ax=ax[1])\n",
    "ax[0].set_title(\"Distribution of day_of_week and y\");"
   ]
  },
  {
   "cell_type": "markdown",
   "id": "15b62768",
   "metadata": {},
   "source": [
    "## Numerical predictors"
   ]
  },
  {
   "cell_type": "code",
   "execution_count": 17,
   "id": "e9d13561",
   "metadata": {},
   "outputs": [],
   "source": [
    "num_predictors=['age', 'duration', 'campaign', 'pdays', 'previous', 'emp.var.rate',\n",
    "       'cons.price.idx', 'cons.conf.idx', 'euribor3m', 'nr.employed']"
   ]
  },
  {
   "cell_type": "code",
   "execution_count": 18,
   "id": "d72bcbd3",
   "metadata": {},
   "outputs": [
    {
     "data": {
      "text/html": [
       "<div>\n",
       "<style scoped>\n",
       "    .dataframe tbody tr th:only-of-type {\n",
       "        vertical-align: middle;\n",
       "    }\n",
       "\n",
       "    .dataframe tbody tr th {\n",
       "        vertical-align: top;\n",
       "    }\n",
       "\n",
       "    .dataframe thead th {\n",
       "        text-align: right;\n",
       "    }\n",
       "</style>\n",
       "<table border=\"1\" class=\"dataframe\">\n",
       "  <thead>\n",
       "    <tr style=\"text-align: right;\">\n",
       "      <th></th>\n",
       "      <th>age</th>\n",
       "      <th>duration</th>\n",
       "      <th>campaign</th>\n",
       "      <th>pdays</th>\n",
       "      <th>previous</th>\n",
       "      <th>emp.var.rate</th>\n",
       "      <th>cons.price.idx</th>\n",
       "      <th>cons.conf.idx</th>\n",
       "      <th>euribor3m</th>\n",
       "      <th>nr.employed</th>\n",
       "    </tr>\n",
       "  </thead>\n",
       "  <tbody>\n",
       "    <tr>\n",
       "      <th>count</th>\n",
       "      <td>41176.00000</td>\n",
       "      <td>41176.000000</td>\n",
       "      <td>41176.000000</td>\n",
       "      <td>41176.000000</td>\n",
       "      <td>41176.000000</td>\n",
       "      <td>41176.000000</td>\n",
       "      <td>41176.000000</td>\n",
       "      <td>41176.000000</td>\n",
       "      <td>41176.000000</td>\n",
       "      <td>41176.000000</td>\n",
       "    </tr>\n",
       "    <tr>\n",
       "      <th>mean</th>\n",
       "      <td>40.02380</td>\n",
       "      <td>258.315815</td>\n",
       "      <td>2.567879</td>\n",
       "      <td>962.464810</td>\n",
       "      <td>0.173013</td>\n",
       "      <td>0.081922</td>\n",
       "      <td>93.575720</td>\n",
       "      <td>-40.502863</td>\n",
       "      <td>3.621293</td>\n",
       "      <td>5167.034870</td>\n",
       "    </tr>\n",
       "    <tr>\n",
       "      <th>std</th>\n",
       "      <td>10.42068</td>\n",
       "      <td>259.305321</td>\n",
       "      <td>2.770318</td>\n",
       "      <td>186.937102</td>\n",
       "      <td>0.494964</td>\n",
       "      <td>1.570883</td>\n",
       "      <td>0.578839</td>\n",
       "      <td>4.627860</td>\n",
       "      <td>1.734437</td>\n",
       "      <td>72.251364</td>\n",
       "    </tr>\n",
       "    <tr>\n",
       "      <th>min</th>\n",
       "      <td>17.00000</td>\n",
       "      <td>0.000000</td>\n",
       "      <td>1.000000</td>\n",
       "      <td>0.000000</td>\n",
       "      <td>0.000000</td>\n",
       "      <td>-3.400000</td>\n",
       "      <td>92.201000</td>\n",
       "      <td>-50.800000</td>\n",
       "      <td>0.634000</td>\n",
       "      <td>4963.600000</td>\n",
       "    </tr>\n",
       "    <tr>\n",
       "      <th>25%</th>\n",
       "      <td>32.00000</td>\n",
       "      <td>102.000000</td>\n",
       "      <td>1.000000</td>\n",
       "      <td>999.000000</td>\n",
       "      <td>0.000000</td>\n",
       "      <td>-1.800000</td>\n",
       "      <td>93.075000</td>\n",
       "      <td>-42.700000</td>\n",
       "      <td>1.344000</td>\n",
       "      <td>5099.100000</td>\n",
       "    </tr>\n",
       "    <tr>\n",
       "      <th>50%</th>\n",
       "      <td>38.00000</td>\n",
       "      <td>180.000000</td>\n",
       "      <td>2.000000</td>\n",
       "      <td>999.000000</td>\n",
       "      <td>0.000000</td>\n",
       "      <td>1.100000</td>\n",
       "      <td>93.749000</td>\n",
       "      <td>-41.800000</td>\n",
       "      <td>4.857000</td>\n",
       "      <td>5191.000000</td>\n",
       "    </tr>\n",
       "    <tr>\n",
       "      <th>75%</th>\n",
       "      <td>47.00000</td>\n",
       "      <td>319.000000</td>\n",
       "      <td>3.000000</td>\n",
       "      <td>999.000000</td>\n",
       "      <td>0.000000</td>\n",
       "      <td>1.400000</td>\n",
       "      <td>93.994000</td>\n",
       "      <td>-36.400000</td>\n",
       "      <td>4.961000</td>\n",
       "      <td>5228.100000</td>\n",
       "    </tr>\n",
       "    <tr>\n",
       "      <th>max</th>\n",
       "      <td>98.00000</td>\n",
       "      <td>4918.000000</td>\n",
       "      <td>56.000000</td>\n",
       "      <td>999.000000</td>\n",
       "      <td>7.000000</td>\n",
       "      <td>1.400000</td>\n",
       "      <td>94.767000</td>\n",
       "      <td>-26.900000</td>\n",
       "      <td>5.045000</td>\n",
       "      <td>5228.100000</td>\n",
       "    </tr>\n",
       "  </tbody>\n",
       "</table>\n",
       "</div>"
      ],
      "text/plain": [
       "               age      duration      campaign         pdays      previous  \\\n",
       "count  41176.00000  41176.000000  41176.000000  41176.000000  41176.000000   \n",
       "mean      40.02380    258.315815      2.567879    962.464810      0.173013   \n",
       "std       10.42068    259.305321      2.770318    186.937102      0.494964   \n",
       "min       17.00000      0.000000      1.000000      0.000000      0.000000   \n",
       "25%       32.00000    102.000000      1.000000    999.000000      0.000000   \n",
       "50%       38.00000    180.000000      2.000000    999.000000      0.000000   \n",
       "75%       47.00000    319.000000      3.000000    999.000000      0.000000   \n",
       "max       98.00000   4918.000000     56.000000    999.000000      7.000000   \n",
       "\n",
       "       emp.var.rate  cons.price.idx  cons.conf.idx     euribor3m   nr.employed  \n",
       "count  41176.000000    41176.000000   41176.000000  41176.000000  41176.000000  \n",
       "mean       0.081922       93.575720     -40.502863      3.621293   5167.034870  \n",
       "std        1.570883        0.578839       4.627860      1.734437     72.251364  \n",
       "min       -3.400000       92.201000     -50.800000      0.634000   4963.600000  \n",
       "25%       -1.800000       93.075000     -42.700000      1.344000   5099.100000  \n",
       "50%        1.100000       93.749000     -41.800000      4.857000   5191.000000  \n",
       "75%        1.400000       93.994000     -36.400000      4.961000   5228.100000  \n",
       "max        1.400000       94.767000     -26.900000      5.045000   5228.100000  "
      ]
     },
     "execution_count": 18,
     "metadata": {},
     "output_type": "execute_result"
    }
   ],
   "source": [
    "df.describe()"
   ]
  },
  {
   "cell_type": "markdown",
   "id": "f80f1325",
   "metadata": {},
   "source": [
    "### Age, campaign"
   ]
  },
  {
   "cell_type": "code",
   "execution_count": 19,
   "id": "0c941ad6",
   "metadata": {},
   "outputs": [
    {
     "data": {
      "image/png": "[encoded data removed]",
      "text/plain": [
       "<Figure size 864x864 with 4 Axes>"
      ]
     },
     "metadata": {
      "needs_background": "light"
     },
     "output_type": "display_data"
    }
   ],
   "source": [
    "fig, ax=plt.subplots(2,2, figsize=(12,12))\n",
    "sns.boxplot(x=\"y\", y=\"age\", data=df, ax=ax[0][0])\n",
    "ax[0][0].set_title(\"Distribution of age and y\")\n",
    "sns.boxplot(x=\"y\", y=\"campaign\", data=df, ax=ax[0][1])\n",
    "ax[0][1].set_title(\"Distribution of campaign and y\")\n",
    "sns.boxplot(x=\"y\", y=\"duration\", data=df, ax=ax[1][0])\n",
    "ax[1][0].set_title(\"Distribution of duration and y\")\n",
    "sns.boxplot(x=\"y\", y=\"cons.price.idx\", data=df, ax=ax[1][1])\n",
    "ax[1][1].set_title(\"Distribution of cons.price.idx and y\");"
   ]
  },
  {
   "cell_type": "markdown",
   "id": "ec342f1e",
   "metadata": {},
   "source": [
    "### previous, emp.car.rate, nr.employed"
   ]
  },
  {
   "cell_type": "code",
   "execution_count": 20,
   "id": "b5afa1f0",
   "metadata": {},
   "outputs": [
    {
     "data": {
      "image/png": "[encoded data removed]",
      "text/plain": [
       "<Figure size 864x576 with 3 Axes>"
      ]
     },
     "metadata": {
      "needs_background": "light"
     },
     "output_type": "display_data"
    }
   ],
   "source": [
    "fig, ax= plt.subplots(3,1, figsize=(12,8))\n",
    "sns.countplot(x=\"previous\", hue=\"y\",data=df, order=df.previous.value_counts().index, ax=ax[0])\n",
    "ax[0].set_title(\"Distribution of previous and y\")\n",
    "sns.countplot(x=\"emp.var.rate\", hue=\"y\",data=df, order=df[\"emp.var.rate\"].value_counts().index, ax=ax[1])\n",
    "ax[1].set_title(\"Distribution of emp.var.rate and y\")\n",
    "sns.countplot(x=\"nr.employed\", hue=\"y\",data=df, order=df[\"nr.employed\"].value_counts().index, ax=ax[2])\n",
    "ax[2].set_title(\"Distribution of nr.employed and y\")\n",
    "plt.subplots_adjust(hspace=0.4);"
   ]
  },
  {
   "cell_type": "markdown",
   "id": "bd9aa2b7",
   "metadata": {},
   "source": [
    "### previous"
   ]
  },
  {
   "cell_type": "code",
   "execution_count": 21,
   "id": "ae57e07f",
   "metadata": {},
   "outputs": [
    {
     "data": {
      "text/plain": [
       "0    35551\n",
       "1     4561\n",
       "2      754\n",
       "3      216\n",
       "4       70\n",
       "5       18\n",
       "6        5\n",
       "7        1\n",
       "Name: previous, dtype: int64"
      ]
     },
     "execution_count": 21,
     "metadata": {},
     "output_type": "execute_result"
    }
   ],
   "source": [
    "df.previous.value_counts()"
   ]
  },
  {
   "cell_type": "markdown",
   "id": "15b695de",
   "metadata": {},
   "source": [
    "### cons.conf.idx, euribor3m"
   ]
  },
  {
   "cell_type": "code",
   "execution_count": 22,
   "id": "228d2541",
   "metadata": {},
   "outputs": [
    {
     "data": {
      "image/png": "[encoded data removed]",
      "text/plain": [
       "<Figure size 720x576 with 2 Axes>"
      ]
     },
     "metadata": {
      "needs_background": "light"
     },
     "output_type": "display_data"
    }
   ],
   "source": [
    "fig, ax=plt.subplots(2,1, figsize=(10,8))\n",
    "sns.histplot(x=\"cons.conf.idx\", hue=\"y\", multiple=\"stack\", data=df, ax=ax[0])\n",
    "ax[0].set_title(\"Distribution of cons.conf.idx and y\")\n",
    "sns.histplot(hue=\"y\", x=\"euribor3m\", multiple=\"stack\", data=df, ax=ax[1])\n",
    "ax[1].set_title(\"Distribution of euribor3m and y\")\n",
    "plt.subplots_adjust(hspace=0.4)"
   ]
  },
  {
   "cell_type": "markdown",
   "id": "c9249e03",
   "metadata": {},
   "source": [
    "### Unknown values in each column"
   ]
  },
  {
   "cell_type": "code",
   "execution_count": 23,
   "id": "0e9a566f",
   "metadata": {},
   "outputs": [],
   "source": [
    "column_names = df.columns.values\n",
    "unknown_column={}\n",
    "for key in column_names:\n",
    "    if sum(df[key]==\"unknown\")>0:\n",
    "        unknown_column[key]=round((sum(df[key]==\"unknown\")/len(df[key]) ) * 100,2)"
   ]
  },
  {
   "cell_type": "code",
   "execution_count": 24,
   "id": "8dd94654",
   "metadata": {},
   "outputs": [],
   "source": [
    "unknown_column_df = pd.DataFrame(unknown_column, index=[\"UnknownValuePercent\"]).T.sort_values(by=\"UnknownValuePercent\", ascending=False)"
   ]
  },
  {
   "cell_type": "code",
   "execution_count": 25,
   "id": "0288d9fe",
   "metadata": {},
   "outputs": [
    {
     "data": {
      "image/png": "[encoded data removed]",
      "text/plain": [
       "<Figure size 600x500 with 1 Axes>"
      ]
     },
     "metadata": {
      "needs_background": "light"
     },
     "output_type": "display_data"
    }
   ],
   "source": [
    "plt.figure(figsize=(6,5), dpi=100)\n",
    "ax=sns.barplot(y=unknown_column_df[\"UnknownValuePercent\"],x=unknown_column_df.index)\n",
    "ax.set_title(\"Percent of unknown values in each column\");"
   ]
  },
  {
   "cell_type": "markdown",
   "id": "f7fa9d8b",
   "metadata": {},
   "source": [
    "### Unkown values in education, housing, loan, job and marital columns are only a small part in each column, we will drop unknown values in these columns and only keep unknown values in default column."
   ]
  },
  {
   "cell_type": "code",
   "execution_count": 26,
   "id": "b8a5c4a3",
   "metadata": {},
   "outputs": [],
   "source": [
    "df=df[df[\"education\"]!=\"unknown\"]\n",
    "df=df[df[\"housing\"]!=\"unknown\"]\n",
    "df=df[df[\"loan\"]!=\"unknown\"]\n",
    "df=df[df[\"job\"]!=\"unknown\"]\n",
    "df=df[df[\"marital\"]!=\"unknown\"]"
   ]
  },
  {
   "cell_type": "code",
   "execution_count": 27,
   "id": "68c5d485",
   "metadata": {},
   "outputs": [
    {
     "data": {
      "text/plain": [
       "(38234, 21)"
      ]
     },
     "execution_count": 27,
     "metadata": {},
     "output_type": "execute_result"
    }
   ],
   "source": [
    "df.shape"
   ]
  },
  {
   "cell_type": "code",
   "execution_count": 28,
   "id": "5dc16161",
   "metadata": {},
   "outputs": [
    {
     "data": {
      "text/html": [
       "<div>\n",
       "<style scoped>\n",
       "    .dataframe tbody tr th:only-of-type {\n",
       "        vertical-align: middle;\n",
       "    }\n",
       "\n",
       "    .dataframe tbody tr th {\n",
       "        vertical-align: top;\n",
       "    }\n",
       "\n",
       "    .dataframe thead th {\n",
       "        text-align: right;\n",
       "    }\n",
       "</style>\n",
       "<table border=\"1\" class=\"dataframe\">\n",
       "  <thead>\n",
       "    <tr style=\"text-align: right;\">\n",
       "      <th></th>\n",
       "      <th>age</th>\n",
       "      <th>job</th>\n",
       "      <th>marital</th>\n",
       "      <th>education</th>\n",
       "      <th>default</th>\n",
       "      <th>housing</th>\n",
       "      <th>loan</th>\n",
       "      <th>contact</th>\n",
       "      <th>month</th>\n",
       "      <th>day_of_week</th>\n",
       "      <th>...</th>\n",
       "      <th>campaign</th>\n",
       "      <th>pdays</th>\n",
       "      <th>previous</th>\n",
       "      <th>poutcome</th>\n",
       "      <th>emp.var.rate</th>\n",
       "      <th>cons.price.idx</th>\n",
       "      <th>cons.conf.idx</th>\n",
       "      <th>euribor3m</th>\n",
       "      <th>nr.employed</th>\n",
       "      <th>y</th>\n",
       "    </tr>\n",
       "  </thead>\n",
       "  <tbody>\n",
       "    <tr>\n",
       "      <th>0</th>\n",
       "      <td>56</td>\n",
       "      <td>housemaid</td>\n",
       "      <td>married</td>\n",
       "      <td>basic.4y</td>\n",
       "      <td>no</td>\n",
       "      <td>no</td>\n",
       "      <td>no</td>\n",
       "      <td>telephone</td>\n",
       "      <td>may</td>\n",
       "      <td>mon</td>\n",
       "      <td>...</td>\n",
       "      <td>1</td>\n",
       "      <td>999</td>\n",
       "      <td>0</td>\n",
       "      <td>nonexistent</td>\n",
       "      <td>1.1</td>\n",
       "      <td>93.994</td>\n",
       "      <td>-36.4</td>\n",
       "      <td>4.857</td>\n",
       "      <td>5191.0</td>\n",
       "      <td>no</td>\n",
       "    </tr>\n",
       "    <tr>\n",
       "      <th>1</th>\n",
       "      <td>57</td>\n",
       "      <td>services</td>\n",
       "      <td>married</td>\n",
       "      <td>high.school</td>\n",
       "      <td>other</td>\n",
       "      <td>no</td>\n",
       "      <td>no</td>\n",
       "      <td>telephone</td>\n",
       "      <td>may</td>\n",
       "      <td>mon</td>\n",
       "      <td>...</td>\n",
       "      <td>1</td>\n",
       "      <td>999</td>\n",
       "      <td>0</td>\n",
       "      <td>nonexistent</td>\n",
       "      <td>1.1</td>\n",
       "      <td>93.994</td>\n",
       "      <td>-36.4</td>\n",
       "      <td>4.857</td>\n",
       "      <td>5191.0</td>\n",
       "      <td>no</td>\n",
       "    </tr>\n",
       "    <tr>\n",
       "      <th>2</th>\n",
       "      <td>37</td>\n",
       "      <td>services</td>\n",
       "      <td>married</td>\n",
       "      <td>high.school</td>\n",
       "      <td>no</td>\n",
       "      <td>yes</td>\n",
       "      <td>no</td>\n",
       "      <td>telephone</td>\n",
       "      <td>may</td>\n",
       "      <td>mon</td>\n",
       "      <td>...</td>\n",
       "      <td>1</td>\n",
       "      <td>999</td>\n",
       "      <td>0</td>\n",
       "      <td>nonexistent</td>\n",
       "      <td>1.1</td>\n",
       "      <td>93.994</td>\n",
       "      <td>-36.4</td>\n",
       "      <td>4.857</td>\n",
       "      <td>5191.0</td>\n",
       "      <td>no</td>\n",
       "    </tr>\n",
       "    <tr>\n",
       "      <th>3</th>\n",
       "      <td>40</td>\n",
       "      <td>admin.</td>\n",
       "      <td>married</td>\n",
       "      <td>basic.6y</td>\n",
       "      <td>no</td>\n",
       "      <td>no</td>\n",
       "      <td>no</td>\n",
       "      <td>telephone</td>\n",
       "      <td>may</td>\n",
       "      <td>mon</td>\n",
       "      <td>...</td>\n",
       "      <td>1</td>\n",
       "      <td>999</td>\n",
       "      <td>0</td>\n",
       "      <td>nonexistent</td>\n",
       "      <td>1.1</td>\n",
       "      <td>93.994</td>\n",
       "      <td>-36.4</td>\n",
       "      <td>4.857</td>\n",
       "      <td>5191.0</td>\n",
       "      <td>no</td>\n",
       "    </tr>\n",
       "    <tr>\n",
       "      <th>4</th>\n",
       "      <td>56</td>\n",
       "      <td>services</td>\n",
       "      <td>married</td>\n",
       "      <td>high.school</td>\n",
       "      <td>no</td>\n",
       "      <td>no</td>\n",
       "      <td>yes</td>\n",
       "      <td>telephone</td>\n",
       "      <td>may</td>\n",
       "      <td>mon</td>\n",
       "      <td>...</td>\n",
       "      <td>1</td>\n",
       "      <td>999</td>\n",
       "      <td>0</td>\n",
       "      <td>nonexistent</td>\n",
       "      <td>1.1</td>\n",
       "      <td>93.994</td>\n",
       "      <td>-36.4</td>\n",
       "      <td>4.857</td>\n",
       "      <td>5191.0</td>\n",
       "      <td>no</td>\n",
       "    </tr>\n",
       "    <tr>\n",
       "      <th>...</th>\n",
       "      <td>...</td>\n",
       "      <td>...</td>\n",
       "      <td>...</td>\n",
       "      <td>...</td>\n",
       "      <td>...</td>\n",
       "      <td>...</td>\n",
       "      <td>...</td>\n",
       "      <td>...</td>\n",
       "      <td>...</td>\n",
       "      <td>...</td>\n",
       "      <td>...</td>\n",
       "      <td>...</td>\n",
       "      <td>...</td>\n",
       "      <td>...</td>\n",
       "      <td>...</td>\n",
       "      <td>...</td>\n",
       "      <td>...</td>\n",
       "      <td>...</td>\n",
       "      <td>...</td>\n",
       "      <td>...</td>\n",
       "      <td>...</td>\n",
       "    </tr>\n",
       "    <tr>\n",
       "      <th>41183</th>\n",
       "      <td>73</td>\n",
       "      <td>retired</td>\n",
       "      <td>married</td>\n",
       "      <td>professional.course</td>\n",
       "      <td>no</td>\n",
       "      <td>yes</td>\n",
       "      <td>no</td>\n",
       "      <td>cellular</td>\n",
       "      <td>nov</td>\n",
       "      <td>fri</td>\n",
       "      <td>...</td>\n",
       "      <td>1</td>\n",
       "      <td>999</td>\n",
       "      <td>0</td>\n",
       "      <td>nonexistent</td>\n",
       "      <td>-1.1</td>\n",
       "      <td>94.767</td>\n",
       "      <td>-50.8</td>\n",
       "      <td>1.028</td>\n",
       "      <td>4963.6</td>\n",
       "      <td>yes</td>\n",
       "    </tr>\n",
       "    <tr>\n",
       "      <th>41184</th>\n",
       "      <td>46</td>\n",
       "      <td>blue-collar</td>\n",
       "      <td>married</td>\n",
       "      <td>professional.course</td>\n",
       "      <td>no</td>\n",
       "      <td>no</td>\n",
       "      <td>no</td>\n",
       "      <td>cellular</td>\n",
       "      <td>nov</td>\n",
       "      <td>fri</td>\n",
       "      <td>...</td>\n",
       "      <td>1</td>\n",
       "      <td>999</td>\n",
       "      <td>0</td>\n",
       "      <td>nonexistent</td>\n",
       "      <td>-1.1</td>\n",
       "      <td>94.767</td>\n",
       "      <td>-50.8</td>\n",
       "      <td>1.028</td>\n",
       "      <td>4963.6</td>\n",
       "      <td>no</td>\n",
       "    </tr>\n",
       "    <tr>\n",
       "      <th>41185</th>\n",
       "      <td>56</td>\n",
       "      <td>retired</td>\n",
       "      <td>married</td>\n",
       "      <td>university.degree</td>\n",
       "      <td>no</td>\n",
       "      <td>yes</td>\n",
       "      <td>no</td>\n",
       "      <td>cellular</td>\n",
       "      <td>nov</td>\n",
       "      <td>fri</td>\n",
       "      <td>...</td>\n",
       "      <td>2</td>\n",
       "      <td>999</td>\n",
       "      <td>0</td>\n",
       "      <td>nonexistent</td>\n",
       "      <td>-1.1</td>\n",
       "      <td>94.767</td>\n",
       "      <td>-50.8</td>\n",
       "      <td>1.028</td>\n",
       "      <td>4963.6</td>\n",
       "      <td>no</td>\n",
       "    </tr>\n",
       "    <tr>\n",
       "      <th>41186</th>\n",
       "      <td>44</td>\n",
       "      <td>technician</td>\n",
       "      <td>married</td>\n",
       "      <td>professional.course</td>\n",
       "      <td>no</td>\n",
       "      <td>no</td>\n",
       "      <td>no</td>\n",
       "      <td>cellular</td>\n",
       "      <td>nov</td>\n",
       "      <td>fri</td>\n",
       "      <td>...</td>\n",
       "      <td>1</td>\n",
       "      <td>999</td>\n",
       "      <td>0</td>\n",
       "      <td>nonexistent</td>\n",
       "      <td>-1.1</td>\n",
       "      <td>94.767</td>\n",
       "      <td>-50.8</td>\n",
       "      <td>1.028</td>\n",
       "      <td>4963.6</td>\n",
       "      <td>yes</td>\n",
       "    </tr>\n",
       "    <tr>\n",
       "      <th>41187</th>\n",
       "      <td>74</td>\n",
       "      <td>retired</td>\n",
       "      <td>married</td>\n",
       "      <td>professional.course</td>\n",
       "      <td>no</td>\n",
       "      <td>yes</td>\n",
       "      <td>no</td>\n",
       "      <td>cellular</td>\n",
       "      <td>nov</td>\n",
       "      <td>fri</td>\n",
       "      <td>...</td>\n",
       "      <td>3</td>\n",
       "      <td>999</td>\n",
       "      <td>1</td>\n",
       "      <td>failure</td>\n",
       "      <td>-1.1</td>\n",
       "      <td>94.767</td>\n",
       "      <td>-50.8</td>\n",
       "      <td>1.028</td>\n",
       "      <td>4963.6</td>\n",
       "      <td>no</td>\n",
       "    </tr>\n",
       "  </tbody>\n",
       "</table>\n",
       "<p>38234 rows × 21 columns</p>\n",
       "</div>"
      ],
      "text/plain": [
       "       age          job  marital            education default housing loan  \\\n",
       "0       56    housemaid  married             basic.4y      no      no   no   \n",
       "1       57     services  married          high.school   other      no   no   \n",
       "2       37     services  married          high.school      no     yes   no   \n",
       "3       40       admin.  married             basic.6y      no      no   no   \n",
       "4       56     services  married          high.school      no      no  yes   \n",
       "...    ...          ...      ...                  ...     ...     ...  ...   \n",
       "41183   73      retired  married  professional.course      no     yes   no   \n",
       "41184   46  blue-collar  married  professional.course      no      no   no   \n",
       "41185   56      retired  married    university.degree      no     yes   no   \n",
       "41186   44   technician  married  professional.course      no      no   no   \n",
       "41187   74      retired  married  professional.course      no     yes   no   \n",
       "\n",
       "         contact month day_of_week  ...  campaign  pdays  previous  \\\n",
       "0      telephone   may         mon  ...         1    999         0   \n",
       "1      telephone   may         mon  ...         1    999         0   \n",
       "2      telephone   may         mon  ...         1    999         0   \n",
       "3      telephone   may         mon  ...         1    999         0   \n",
       "4      telephone   may         mon  ...         1    999         0   \n",
       "...          ...   ...         ...  ...       ...    ...       ...   \n",
       "41183   cellular   nov         fri  ...         1    999         0   \n",
       "41184   cellular   nov         fri  ...         1    999         0   \n",
       "41185   cellular   nov         fri  ...         2    999         0   \n",
       "41186   cellular   nov         fri  ...         1    999         0   \n",
       "41187   cellular   nov         fri  ...         3    999         1   \n",
       "\n",
       "          poutcome emp.var.rate  cons.price.idx  cons.conf.idx  euribor3m  \\\n",
       "0      nonexistent          1.1          93.994          -36.4      4.857   \n",
       "1      nonexistent          1.1          93.994          -36.4      4.857   \n",
       "2      nonexistent          1.1          93.994          -36.4      4.857   \n",
       "3      nonexistent          1.1          93.994          -36.4      4.857   \n",
       "4      nonexistent          1.1          93.994          -36.4      4.857   \n",
       "...            ...          ...             ...            ...        ...   \n",
       "41183  nonexistent         -1.1          94.767          -50.8      1.028   \n",
       "41184  nonexistent         -1.1          94.767          -50.8      1.028   \n",
       "41185  nonexistent         -1.1          94.767          -50.8      1.028   \n",
       "41186  nonexistent         -1.1          94.767          -50.8      1.028   \n",
       "41187      failure         -1.1          94.767          -50.8      1.028   \n",
       "\n",
       "       nr.employed    y  \n",
       "0           5191.0   no  \n",
       "1           5191.0   no  \n",
       "2           5191.0   no  \n",
       "3           5191.0   no  \n",
       "4           5191.0   no  \n",
       "...            ...  ...  \n",
       "41183       4963.6  yes  \n",
       "41184       4963.6   no  \n",
       "41185       4963.6   no  \n",
       "41186       4963.6  yes  \n",
       "41187       4963.6   no  \n",
       "\n",
       "[38234 rows x 21 columns]"
      ]
     },
     "execution_count": 28,
     "metadata": {},
     "output_type": "execute_result"
    }
   ],
   "source": [
    "df"
   ]
  },
  {
   "cell_type": "markdown",
   "id": "272c0686",
   "metadata": {},
   "source": [
    "### There are only 3 \"yes\" values in default, and a small part is \"unknown\", there 2 values are not helpful, we change \"yes\" and \"unknown\" into \"other\" in this column."
   ]
  },
  {
   "cell_type": "code",
   "execution_count": 29,
   "id": "ada79f14",
   "metadata": {},
   "outputs": [],
   "source": [
    "df.default.replace(\"yes\", \"other\", inplace=True)\n",
    "df.default.replace(\"unknown\", \"other\", inplace=True)"
   ]
  },
  {
   "cell_type": "markdown",
   "id": "5b0fe567",
   "metadata": {},
   "source": [
    "### There are some conflicts between 2 columns"
   ]
  },
  {
   "cell_type": "code",
   "execution_count": 30,
   "id": "5561f5d8",
   "metadata": {},
   "outputs": [],
   "source": [
    "df=df.loc[~((df[\"pdays\"]==999) & (df[\"previous\"]!=0))]"
   ]
  },
  {
   "cell_type": "code",
   "execution_count": 31,
   "id": "23ee00e6",
   "metadata": {},
   "outputs": [
    {
     "data": {
      "text/plain": [
       "(34421, 21)"
      ]
     },
     "execution_count": 31,
     "metadata": {},
     "output_type": "execute_result"
    }
   ],
   "source": [
    "df.shape"
   ]
  },
  {
   "cell_type": "code",
   "execution_count": 32,
   "id": "984407de",
   "metadata": {},
   "outputs": [
    {
     "name": "stdout",
     "output_type": "stream",
     "text": [
      "<class 'pandas.core.frame.DataFrame'>\n",
      "Int64Index: 34421 entries, 0 to 41186\n",
      "Data columns (total 21 columns):\n",
      " #   Column          Non-Null Count  Dtype  \n",
      "---  ------          --------------  -----  \n",
      " 0   age             34421 non-null  int64  \n",
      " 1   job             34421 non-null  object \n",
      " 2   marital         34421 non-null  object \n",
      " 3   education       34421 non-null  object \n",
      " 4   default         34421 non-null  object \n",
      " 5   housing         34421 non-null  object \n",
      " 6   loan            34421 non-null  object \n",
      " 7   contact         34421 non-null  object \n",
      " 8   month           34421 non-null  object \n",
      " 9   day_of_week     34421 non-null  object \n",
      " 10  duration        34421 non-null  int64  \n",
      " 11  campaign        34421 non-null  int64  \n",
      " 12  pdays           34421 non-null  int64  \n",
      " 13  previous        34421 non-null  int64  \n",
      " 14  poutcome        34421 non-null  object \n",
      " 15  emp.var.rate    34421 non-null  float64\n",
      " 16  cons.price.idx  34421 non-null  float64\n",
      " 17  cons.conf.idx   34421 non-null  float64\n",
      " 18  euribor3m       34421 non-null  float64\n",
      " 19  nr.employed     34421 non-null  float64\n",
      " 20  y               34421 non-null  object \n",
      "dtypes: float64(5), int64(5), object(11)\n",
      "memory usage: 5.8+ MB\n"
     ]
    }
   ],
   "source": [
    "df.info()"
   ]
  },
  {
   "cell_type": "markdown",
   "id": "3e9a6ce7",
   "metadata": {},
   "source": [
    "## Drop colunms that we think are unrelated to y."
   ]
  },
  {
   "cell_type": "code",
   "execution_count": 33,
   "id": "57534cb7",
   "metadata": {},
   "outputs": [
    {
     "name": "stderr",
     "output_type": "stream",
     "text": [
      "D:\\Anaconda\\envs\\eods-s22\\lib\\site-packages\\pandas\\core\\frame.py:4906: SettingWithCopyWarning: \n",
      "A value is trying to be set on a copy of a slice from a DataFrame\n",
      "\n",
      "See the caveats in the documentation: https://pandas.pydata.org/pandas-docs/stable/user_guide/indexing.html#returning-a-view-versus-a-copy\n",
      "  return super().drop(\n"
     ]
    }
   ],
   "source": [
    "df.drop(columns=[\"duration\", \"day_of_week\"], inplace=True)"
   ]
  },
  {
   "cell_type": "code",
   "execution_count": 34,
   "id": "b8771418",
   "metadata": {},
   "outputs": [
    {
     "data": {
      "text/html": [
       "<div>\n",
       "<style scoped>\n",
       "    .dataframe tbody tr th:only-of-type {\n",
       "        vertical-align: middle;\n",
       "    }\n",
       "\n",
       "    .dataframe tbody tr th {\n",
       "        vertical-align: top;\n",
       "    }\n",
       "\n",
       "    .dataframe thead th {\n",
       "        text-align: right;\n",
       "    }\n",
       "</style>\n",
       "<table border=\"1\" class=\"dataframe\">\n",
       "  <thead>\n",
       "    <tr style=\"text-align: right;\">\n",
       "      <th></th>\n",
       "      <th>age</th>\n",
       "      <th>job</th>\n",
       "      <th>marital</th>\n",
       "      <th>education</th>\n",
       "      <th>default</th>\n",
       "      <th>housing</th>\n",
       "      <th>loan</th>\n",
       "      <th>contact</th>\n",
       "      <th>month</th>\n",
       "      <th>campaign</th>\n",
       "      <th>pdays</th>\n",
       "      <th>previous</th>\n",
       "      <th>poutcome</th>\n",
       "      <th>emp.var.rate</th>\n",
       "      <th>cons.price.idx</th>\n",
       "      <th>cons.conf.idx</th>\n",
       "      <th>euribor3m</th>\n",
       "      <th>nr.employed</th>\n",
       "      <th>y</th>\n",
       "    </tr>\n",
       "  </thead>\n",
       "  <tbody>\n",
       "    <tr>\n",
       "      <th>0</th>\n",
       "      <td>56</td>\n",
       "      <td>housemaid</td>\n",
       "      <td>married</td>\n",
       "      <td>basic.4y</td>\n",
       "      <td>no</td>\n",
       "      <td>no</td>\n",
       "      <td>no</td>\n",
       "      <td>telephone</td>\n",
       "      <td>may</td>\n",
       "      <td>1</td>\n",
       "      <td>999</td>\n",
       "      <td>0</td>\n",
       "      <td>nonexistent</td>\n",
       "      <td>1.1</td>\n",
       "      <td>93.994</td>\n",
       "      <td>-36.4</td>\n",
       "      <td>4.857</td>\n",
       "      <td>5191.0</td>\n",
       "      <td>no</td>\n",
       "    </tr>\n",
       "    <tr>\n",
       "      <th>1</th>\n",
       "      <td>57</td>\n",
       "      <td>services</td>\n",
       "      <td>married</td>\n",
       "      <td>high.school</td>\n",
       "      <td>other</td>\n",
       "      <td>no</td>\n",
       "      <td>no</td>\n",
       "      <td>telephone</td>\n",
       "      <td>may</td>\n",
       "      <td>1</td>\n",
       "      <td>999</td>\n",
       "      <td>0</td>\n",
       "      <td>nonexistent</td>\n",
       "      <td>1.1</td>\n",
       "      <td>93.994</td>\n",
       "      <td>-36.4</td>\n",
       "      <td>4.857</td>\n",
       "      <td>5191.0</td>\n",
       "      <td>no</td>\n",
       "    </tr>\n",
       "    <tr>\n",
       "      <th>2</th>\n",
       "      <td>37</td>\n",
       "      <td>services</td>\n",
       "      <td>married</td>\n",
       "      <td>high.school</td>\n",
       "      <td>no</td>\n",
       "      <td>yes</td>\n",
       "      <td>no</td>\n",
       "      <td>telephone</td>\n",
       "      <td>may</td>\n",
       "      <td>1</td>\n",
       "      <td>999</td>\n",
       "      <td>0</td>\n",
       "      <td>nonexistent</td>\n",
       "      <td>1.1</td>\n",
       "      <td>93.994</td>\n",
       "      <td>-36.4</td>\n",
       "      <td>4.857</td>\n",
       "      <td>5191.0</td>\n",
       "      <td>no</td>\n",
       "    </tr>\n",
       "    <tr>\n",
       "      <th>3</th>\n",
       "      <td>40</td>\n",
       "      <td>admin.</td>\n",
       "      <td>married</td>\n",
       "      <td>basic.6y</td>\n",
       "      <td>no</td>\n",
       "      <td>no</td>\n",
       "      <td>no</td>\n",
       "      <td>telephone</td>\n",
       "      <td>may</td>\n",
       "      <td>1</td>\n",
       "      <td>999</td>\n",
       "      <td>0</td>\n",
       "      <td>nonexistent</td>\n",
       "      <td>1.1</td>\n",
       "      <td>93.994</td>\n",
       "      <td>-36.4</td>\n",
       "      <td>4.857</td>\n",
       "      <td>5191.0</td>\n",
       "      <td>no</td>\n",
       "    </tr>\n",
       "    <tr>\n",
       "      <th>4</th>\n",
       "      <td>56</td>\n",
       "      <td>services</td>\n",
       "      <td>married</td>\n",
       "      <td>high.school</td>\n",
       "      <td>no</td>\n",
       "      <td>no</td>\n",
       "      <td>yes</td>\n",
       "      <td>telephone</td>\n",
       "      <td>may</td>\n",
       "      <td>1</td>\n",
       "      <td>999</td>\n",
       "      <td>0</td>\n",
       "      <td>nonexistent</td>\n",
       "      <td>1.1</td>\n",
       "      <td>93.994</td>\n",
       "      <td>-36.4</td>\n",
       "      <td>4.857</td>\n",
       "      <td>5191.0</td>\n",
       "      <td>no</td>\n",
       "    </tr>\n",
       "    <tr>\n",
       "      <th>...</th>\n",
       "      <td>...</td>\n",
       "      <td>...</td>\n",
       "      <td>...</td>\n",
       "      <td>...</td>\n",
       "      <td>...</td>\n",
       "      <td>...</td>\n",
       "      <td>...</td>\n",
       "      <td>...</td>\n",
       "      <td>...</td>\n",
       "      <td>...</td>\n",
       "      <td>...</td>\n",
       "      <td>...</td>\n",
       "      <td>...</td>\n",
       "      <td>...</td>\n",
       "      <td>...</td>\n",
       "      <td>...</td>\n",
       "      <td>...</td>\n",
       "      <td>...</td>\n",
       "      <td>...</td>\n",
       "    </tr>\n",
       "    <tr>\n",
       "      <th>41182</th>\n",
       "      <td>29</td>\n",
       "      <td>unemployed</td>\n",
       "      <td>single</td>\n",
       "      <td>basic.4y</td>\n",
       "      <td>no</td>\n",
       "      <td>yes</td>\n",
       "      <td>no</td>\n",
       "      <td>cellular</td>\n",
       "      <td>nov</td>\n",
       "      <td>1</td>\n",
       "      <td>9</td>\n",
       "      <td>1</td>\n",
       "      <td>success</td>\n",
       "      <td>-1.1</td>\n",
       "      <td>94.767</td>\n",
       "      <td>-50.8</td>\n",
       "      <td>1.028</td>\n",
       "      <td>4963.6</td>\n",
       "      <td>no</td>\n",
       "    </tr>\n",
       "    <tr>\n",
       "      <th>41183</th>\n",
       "      <td>73</td>\n",
       "      <td>retired</td>\n",
       "      <td>married</td>\n",
       "      <td>professional.course</td>\n",
       "      <td>no</td>\n",
       "      <td>yes</td>\n",
       "      <td>no</td>\n",
       "      <td>cellular</td>\n",
       "      <td>nov</td>\n",
       "      <td>1</td>\n",
       "      <td>999</td>\n",
       "      <td>0</td>\n",
       "      <td>nonexistent</td>\n",
       "      <td>-1.1</td>\n",
       "      <td>94.767</td>\n",
       "      <td>-50.8</td>\n",
       "      <td>1.028</td>\n",
       "      <td>4963.6</td>\n",
       "      <td>yes</td>\n",
       "    </tr>\n",
       "    <tr>\n",
       "      <th>41184</th>\n",
       "      <td>46</td>\n",
       "      <td>blue-collar</td>\n",
       "      <td>married</td>\n",
       "      <td>professional.course</td>\n",
       "      <td>no</td>\n",
       "      <td>no</td>\n",
       "      <td>no</td>\n",
       "      <td>cellular</td>\n",
       "      <td>nov</td>\n",
       "      <td>1</td>\n",
       "      <td>999</td>\n",
       "      <td>0</td>\n",
       "      <td>nonexistent</td>\n",
       "      <td>-1.1</td>\n",
       "      <td>94.767</td>\n",
       "      <td>-50.8</td>\n",
       "      <td>1.028</td>\n",
       "      <td>4963.6</td>\n",
       "      <td>no</td>\n",
       "    </tr>\n",
       "    <tr>\n",
       "      <th>41185</th>\n",
       "      <td>56</td>\n",
       "      <td>retired</td>\n",
       "      <td>married</td>\n",
       "      <td>university.degree</td>\n",
       "      <td>no</td>\n",
       "      <td>yes</td>\n",
       "      <td>no</td>\n",
       "      <td>cellular</td>\n",
       "      <td>nov</td>\n",
       "      <td>2</td>\n",
       "      <td>999</td>\n",
       "      <td>0</td>\n",
       "      <td>nonexistent</td>\n",
       "      <td>-1.1</td>\n",
       "      <td>94.767</td>\n",
       "      <td>-50.8</td>\n",
       "      <td>1.028</td>\n",
       "      <td>4963.6</td>\n",
       "      <td>no</td>\n",
       "    </tr>\n",
       "    <tr>\n",
       "      <th>41186</th>\n",
       "      <td>44</td>\n",
       "      <td>technician</td>\n",
       "      <td>married</td>\n",
       "      <td>professional.course</td>\n",
       "      <td>no</td>\n",
       "      <td>no</td>\n",
       "      <td>no</td>\n",
       "      <td>cellular</td>\n",
       "      <td>nov</td>\n",
       "      <td>1</td>\n",
       "      <td>999</td>\n",
       "      <td>0</td>\n",
       "      <td>nonexistent</td>\n",
       "      <td>-1.1</td>\n",
       "      <td>94.767</td>\n",
       "      <td>-50.8</td>\n",
       "      <td>1.028</td>\n",
       "      <td>4963.6</td>\n",
       "      <td>yes</td>\n",
       "    </tr>\n",
       "  </tbody>\n",
       "</table>\n",
       "<p>34421 rows × 19 columns</p>\n",
       "</div>"
      ],
      "text/plain": [
       "       age          job  marital            education default housing loan  \\\n",
       "0       56    housemaid  married             basic.4y      no      no   no   \n",
       "1       57     services  married          high.school   other      no   no   \n",
       "2       37     services  married          high.school      no     yes   no   \n",
       "3       40       admin.  married             basic.6y      no      no   no   \n",
       "4       56     services  married          high.school      no      no  yes   \n",
       "...    ...          ...      ...                  ...     ...     ...  ...   \n",
       "41182   29   unemployed   single             basic.4y      no     yes   no   \n",
       "41183   73      retired  married  professional.course      no     yes   no   \n",
       "41184   46  blue-collar  married  professional.course      no      no   no   \n",
       "41185   56      retired  married    university.degree      no     yes   no   \n",
       "41186   44   technician  married  professional.course      no      no   no   \n",
       "\n",
       "         contact month  campaign  pdays  previous     poutcome  emp.var.rate  \\\n",
       "0      telephone   may         1    999         0  nonexistent           1.1   \n",
       "1      telephone   may         1    999         0  nonexistent           1.1   \n",
       "2      telephone   may         1    999         0  nonexistent           1.1   \n",
       "3      telephone   may         1    999         0  nonexistent           1.1   \n",
       "4      telephone   may         1    999         0  nonexistent           1.1   \n",
       "...          ...   ...       ...    ...       ...          ...           ...   \n",
       "41182   cellular   nov         1      9         1      success          -1.1   \n",
       "41183   cellular   nov         1    999         0  nonexistent          -1.1   \n",
       "41184   cellular   nov         1    999         0  nonexistent          -1.1   \n",
       "41185   cellular   nov         2    999         0  nonexistent          -1.1   \n",
       "41186   cellular   nov         1    999         0  nonexistent          -1.1   \n",
       "\n",
       "       cons.price.idx  cons.conf.idx  euribor3m  nr.employed    y  \n",
       "0              93.994          -36.4      4.857       5191.0   no  \n",
       "1              93.994          -36.4      4.857       5191.0   no  \n",
       "2              93.994          -36.4      4.857       5191.0   no  \n",
       "3              93.994          -36.4      4.857       5191.0   no  \n",
       "4              93.994          -36.4      4.857       5191.0   no  \n",
       "...               ...            ...        ...          ...  ...  \n",
       "41182          94.767          -50.8      1.028       4963.6   no  \n",
       "41183          94.767          -50.8      1.028       4963.6  yes  \n",
       "41184          94.767          -50.8      1.028       4963.6   no  \n",
       "41185          94.767          -50.8      1.028       4963.6   no  \n",
       "41186          94.767          -50.8      1.028       4963.6  yes  \n",
       "\n",
       "[34421 rows x 19 columns]"
      ]
     },
     "execution_count": 34,
     "metadata": {},
     "output_type": "execute_result"
    }
   ],
   "source": [
    "df"
   ]
  },
  {
   "cell_type": "markdown",
   "id": "40bfb583",
   "metadata": {},
   "source": [
    "### Delete outliers: age, campaign"
   ]
  },
  {
   "cell_type": "code",
   "execution_count": 35,
   "id": "ab886c86",
   "metadata": {},
   "outputs": [],
   "source": [
    "age_high = df.age.mean()+3*df.age.std()\n",
    "age_low = df.age.mean()-3*df.age.std()"
   ]
  },
  {
   "cell_type": "code",
   "execution_count": 36,
   "id": "e6118249",
   "metadata": {},
   "outputs": [],
   "source": [
    "df=df[(df.age<age_high) & (df.age > age_low)]"
   ]
  },
  {
   "cell_type": "code",
   "execution_count": 37,
   "id": "33866de2",
   "metadata": {},
   "outputs": [],
   "source": [
    "campaign_high = df.campaign.mean()+3*df.campaign.std()\n",
    "campaign_low = df.campaign.mean()-3*df.campaign.std()"
   ]
  },
  {
   "cell_type": "code",
   "execution_count": 38,
   "id": "69149e8b",
   "metadata": {},
   "outputs": [],
   "source": [
    "df=df[(df.campaign<campaign_high) & (df.campaign > campaign_low)]"
   ]
  },
  {
   "cell_type": "code",
   "execution_count": 39,
   "id": "bca03d18",
   "metadata": {},
   "outputs": [
    {
     "data": {
      "text/plain": [
       "(33503, 19)"
      ]
     },
     "execution_count": 39,
     "metadata": {},
     "output_type": "execute_result"
    }
   ],
   "source": [
    "df.shape"
   ]
  },
  {
   "cell_type": "code",
   "execution_count": 40,
   "id": "dc82d97d",
   "metadata": {},
   "outputs": [
    {
     "name": "stdout",
     "output_type": "stream",
     "text": [
      "<class 'pandas.core.frame.DataFrame'>\n",
      "Int64Index: 33503 entries, 0 to 41186\n",
      "Data columns (total 19 columns):\n",
      " #   Column          Non-Null Count  Dtype  \n",
      "---  ------          --------------  -----  \n",
      " 0   age             33503 non-null  int64  \n",
      " 1   job             33503 non-null  object \n",
      " 2   marital         33503 non-null  object \n",
      " 3   education       33503 non-null  object \n",
      " 4   default         33503 non-null  object \n",
      " 5   housing         33503 non-null  object \n",
      " 6   loan            33503 non-null  object \n",
      " 7   contact         33503 non-null  object \n",
      " 8   month           33503 non-null  object \n",
      " 9   campaign        33503 non-null  int64  \n",
      " 10  pdays           33503 non-null  int64  \n",
      " 11  previous        33503 non-null  int64  \n",
      " 12  poutcome        33503 non-null  object \n",
      " 13  emp.var.rate    33503 non-null  float64\n",
      " 14  cons.price.idx  33503 non-null  float64\n",
      " 15  cons.conf.idx   33503 non-null  float64\n",
      " 16  euribor3m       33503 non-null  float64\n",
      " 17  nr.employed     33503 non-null  float64\n",
      " 18  y               33503 non-null  object \n",
      "dtypes: float64(5), int64(4), object(10)\n",
      "memory usage: 5.1+ MB\n"
     ]
    }
   ],
   "source": [
    "df.info()"
   ]
  },
  {
   "cell_type": "markdown",
   "id": "2d38df73",
   "metadata": {},
   "source": [
    "### Encode categorical predictors"
   ]
  },
  {
   "cell_type": "code",
   "execution_count": 41,
   "id": "e1c935c0",
   "metadata": {},
   "outputs": [],
   "source": [
    "df = pd.get_dummies(data=df, \n",
    "                    columns=[\"job\", \"marital\", \"month\", \"poutcome\"], \n",
    "                    prefix=[\"job\", \"marital\", \"month\", \"poutcome\"],\n",
    "                   drop_first = True)"
   ]
  },
  {
   "cell_type": "code",
   "execution_count": 42,
   "id": "24e5a710",
   "metadata": {},
   "outputs": [],
   "source": [
    "education_list = ['illiterate', 'basic.4y', 'basic.6y', 'basic.9y', 'high.school', 'professional.course', 'university.degree']\n",
    "default_list = ['no', 'other']\n",
    "housing_list = ['no', 'yes']\n",
    "loan_list = ['no', 'yes']\n",
    "contact_list = ['cellular', 'telephone']\n",
    "\n",
    "def transfer(column, category, number):\n",
    "    df.loc[df[column] == category, column] = number        \n",
    "       \n",
    "for i in education_list:\n",
    "        transfer('education', i, education_list.index(i))\n",
    "        \n",
    "for i in default_list:\n",
    "        transfer('default', i, default_list.index(i))\n",
    "        \n",
    "for i in housing_list:\n",
    "        transfer('housing', i, housing_list.index(i))\n",
    "        \n",
    "for i in loan_list:\n",
    "        transfer('loan', i, loan_list.index(i))\n",
    "        \n",
    "for i in contact_list:\n",
    "        transfer('contact', i, contact_list.index(i))"
   ]
  },
  {
   "cell_type": "code",
   "execution_count": 43,
   "id": "9501a5c0",
   "metadata": {},
   "outputs": [
    {
     "name": "stdout",
     "output_type": "stream",
     "text": [
      "<class 'pandas.core.frame.DataFrame'>\n",
      "Int64Index: 33503 entries, 0 to 41186\n",
      "Data columns (total 38 columns):\n",
      " #   Column                Non-Null Count  Dtype  \n",
      "---  ------                --------------  -----  \n",
      " 0   age                   33503 non-null  int64  \n",
      " 1   education             33503 non-null  object \n",
      " 2   default               33503 non-null  object \n",
      " 3   housing               33503 non-null  object \n",
      " 4   loan                  33503 non-null  object \n",
      " 5   contact               33503 non-null  object \n",
      " 6   campaign              33503 non-null  int64  \n",
      " 7   pdays                 33503 non-null  int64  \n",
      " 8   previous              33503 non-null  int64  \n",
      " 9   emp.var.rate          33503 non-null  float64\n",
      " 10  cons.price.idx        33503 non-null  float64\n",
      " 11  cons.conf.idx         33503 non-null  float64\n",
      " 12  euribor3m             33503 non-null  float64\n",
      " 13  nr.employed           33503 non-null  float64\n",
      " 14  y                     33503 non-null  object \n",
      " 15  job_blue-collar       33503 non-null  uint8  \n",
      " 16  job_entrepreneur      33503 non-null  uint8  \n",
      " 17  job_housemaid         33503 non-null  uint8  \n",
      " 18  job_management        33503 non-null  uint8  \n",
      " 19  job_retired           33503 non-null  uint8  \n",
      " 20  job_self-employed     33503 non-null  uint8  \n",
      " 21  job_services          33503 non-null  uint8  \n",
      " 22  job_student           33503 non-null  uint8  \n",
      " 23  job_technician        33503 non-null  uint8  \n",
      " 24  job_unemployed        33503 non-null  uint8  \n",
      " 25  marital_married       33503 non-null  uint8  \n",
      " 26  marital_single        33503 non-null  uint8  \n",
      " 27  month_aug             33503 non-null  uint8  \n",
      " 28  month_dec             33503 non-null  uint8  \n",
      " 29  month_jul             33503 non-null  uint8  \n",
      " 30  month_jun             33503 non-null  uint8  \n",
      " 31  month_mar             33503 non-null  uint8  \n",
      " 32  month_may             33503 non-null  uint8  \n",
      " 33  month_nov             33503 non-null  uint8  \n",
      " 34  month_oct             33503 non-null  uint8  \n",
      " 35  month_sep             33503 non-null  uint8  \n",
      " 36  poutcome_nonexistent  33503 non-null  uint8  \n",
      " 37  poutcome_success      33503 non-null  uint8  \n",
      "dtypes: float64(5), int64(4), object(6), uint8(23)\n",
      "memory usage: 4.8+ MB\n"
     ]
    }
   ],
   "source": [
    "df.info()"
   ]
  },
  {
   "cell_type": "markdown",
   "id": "837d595c",
   "metadata": {},
   "source": [
    "### Train & Test split"
   ]
  },
  {
   "cell_type": "code",
   "execution_count": 44,
   "id": "b79babaf",
   "metadata": {},
   "outputs": [
    {
     "name": "stderr",
     "output_type": "stream",
     "text": [
      "D:\\Anaconda\\envs\\eods-s22\\lib\\site-packages\\pandas\\core\\indexing.py:1732: SettingWithCopyWarning: \n",
      "A value is trying to be set on a copy of a slice from a DataFrame\n",
      "\n",
      "See the caveats in the documentation: https://pandas.pydata.org/pandas-docs/stable/user_guide/indexing.html#returning-a-view-versus-a-copy\n",
      "  self._setitem_single_block(indexer, value, name)\n"
     ]
    },
    {
     "name": "stdout",
     "output_type": "stream",
     "text": [
      "(25127, 37)\n",
      "(8376, 37)\n",
      "(25127,)\n",
      "(8376,)\n",
      "(44800,)\n",
      "(44800, 37)\n"
     ]
    }
   ],
   "source": [
    "from sklearn.model_selection import train_test_split\n",
    "from imblearn.over_sampling import SMOTE\n",
    "y = df.loc[:,'y']\n",
    "y.loc[y == 'no'] = 0\n",
    "y.loc[y == 'yes'] = 1\n",
    "y = y.astype('int')\n",
    "X = df.drop('y',axis = 1)\n",
    "X_train, X_test, y_train, y_test = train_test_split(X.values, y.values, test_size = 0.25, random_state = 123)\n",
    "smote = SMOTE()\n",
    "X_smote, y_smote = smote.fit_resample(X_train, y_train)\n",
    "print(X_train.shape)\n",
    "print(X_test.shape)\n",
    "print(y_train.shape)\n",
    "print(y_test.shape)\n",
    "print(y_smote.shape)\n",
    "print(X_smote.shape)"
   ]
  },
  {
   "cell_type": "markdown",
   "id": "b266f94e",
   "metadata": {},
   "source": [
    "### Model fitting"
   ]
  },
  {
   "cell_type": "markdown",
   "id": "36686eaa",
   "metadata": {},
   "source": [
    "#### Random Forests"
   ]
  },
  {
   "cell_type": "code",
   "execution_count": 49,
   "id": "23422de0",
   "metadata": {
    "scrolled": false
   },
   "outputs": [
    {
     "name": "stdout",
     "output_type": "stream",
     "text": [
      "Max score￿0.9374330357142858 Number of trees￿211\n"
     ]
    }
   ],
   "source": [
    "from sklearn.ensemble import RandomForestClassifier\n",
    "from sklearn.model_selection import cross_val_score\n",
    "# tune parameter: n_estimators(most influential to Random Forest)\n",
    "score_list1 = []\n",
    "#use 5-fold cross-validation\n",
    "for i in range(0, 250, 10):\n",
    "    rfc = RandomForestClassifier(n_estimators=i+1, n_jobs = -1, random_state=123)\n",
    "    score = cross_val_score(rfc, X_smote, y_smote, cv=5).mean()\n",
    "    score_list1.append(score)\n",
    "score_max = max(score_list1)\n",
    "print('Max score￿{}'.format(score_max), 'Number of trees￿{}'.format(score_list1.index(score_max)*10+1))"
   ]
  },
  {
   "cell_type": "code",
   "execution_count": 51,
   "id": "7450f7ff",
   "metadata": {},
   "outputs": [
    {
     "data": {
      "image/png": "[encoded data removed]",
      "text/plain": [
       "<Figure size 432x288 with 1 Axes>"
      ]
     },
     "metadata": {
      "needs_background": "light"
     },
     "output_type": "display_data"
    }
   ],
   "source": [
    "#Plot Learning Curve\n",
    "x = np.arange(1,251,10)\n",
    "plt.plot(x, score_list1, 'r-');"
   ]
  },
  {
   "cell_type": "code",
   "execution_count": 264,
   "id": "fb1c61b9",
   "metadata": {},
   "outputs": [
    {
     "name": "stdout",
     "output_type": "stream",
     "text": [
      "Max score￿0.8962075654358529 Number of trees￿67\n"
     ]
    }
   ],
   "source": [
    "#Narrow down the range\n",
    "score_list2 = []\n",
    "for i in range(50,70):\n",
    "    rfc = RandomForestClassifier(n_estimators=i, random_state=90)\n",
    "    score = cross_val_score(rfc, X_train, y_train, cv=5).mean()\n",
    "    score_list2.append(score)\n",
    "score_max = max(score_list2)\n",
    "print('Max score￿{}'.format(score_max), 'Number of trees￿{}'.format(score_list2.index(score_max)+50))"
   ]
  },
  {
   "cell_type": "code",
   "execution_count": 216,
   "id": "5b85c02d",
   "metadata": {
    "scrolled": true
   },
   "outputs": [
    {
     "name": "stdout",
     "output_type": "stream",
     "text": [
      "{'max_depth': 10, 'n_estimators': 53} 0.9052016954622035\n"
     ]
    }
   ],
   "source": [
    "from sklearn.model_selection import GridSearchCV\n",
    "\n",
    "param_grid = {'n_estimators': np.arange(50, 71), 'max_depth': np.arange(1, 21)}\n",
    "\n",
    "GS = GridSearchCV(rfc, param_grid, cv = 5)\n",
    "GS.fit(X_train, y_train)\n",
    "\n",
    "best_param = GS.best_params_\n",
    "best_score = GS.best_score_\n",
    "print(best_param, best_score)"
   ]
  },
  {
   "cell_type": "code",
   "execution_count": 66,
   "id": "2a47d7e7",
   "metadata": {},
   "outputs": [
    {
     "name": "stdout",
     "output_type": "stream",
     "text": [
      "Accuracy of Random Forest Classifier on training set: 97.71\n",
      "Accuracy of Random Forest Classifier on test set: 89.65\n"
     ]
    }
   ],
   "source": [
    "#Model accuracy on training set and test set\n",
    "from sklearn.ensemble import RandomForestClassifier\n",
    "rfc = RandomForestClassifier(n_estimators=100, max_depth= 20, random_state=123)\n",
    "rfc = rfc.fit(X_smote, y_smote)\n",
    "print('Accuracy of Random Forest Classifier on training set: {:.2f}'.format(rfc.score(X_smote, y_smote) * 100))\n",
    "print('Accuracy of Random Forest Classifier on test set: {:.2f}'.format(rfc.score(X_test, y_test) * 100))"
   ]
  },
  {
   "cell_type": "code",
   "execution_count": 53,
   "id": "44890d35",
   "metadata": {},
   "outputs": [
    {
     "data": {
      "image/png": "[encoded data removed]",
      "text/plain": [
       "<Figure size 360x360 with 1 Axes>"
      ]
     },
     "metadata": {
      "needs_background": "light"
     },
     "output_type": "display_data"
    }
   ],
   "source": [
    "# Confusion Matrix\n",
    "from sklearn.metrics import confusion_matrix \n",
    "from mlxtend.plotting import plot_confusion_matrix\n",
    "\n",
    "y_test_pred = rfc.predict(X_test)\n",
    "cm = confusion_matrix(y_test, y_test_pred)\n",
    "\n",
    "fig,ax = plt.subplots(1,1,figsize=(5,5))\n",
    "plot_confusion_matrix(cm, axis=ax);"
   ]
  },
  {
   "cell_type": "code",
   "execution_count": 54,
   "id": "792c1c7f",
   "metadata": {},
   "outputs": [
    {
     "name": "stdout",
     "output_type": "stream",
     "text": [
      "Precision of Random Forest Classifier: 0.46\n",
      "Recall of Random Forest Classifier: 0.53\n",
      "F1 score of Random Forest Classifier: 0.49\n"
     ]
    }
   ],
   "source": [
    "# The precision, recall and F1 score of the model\n",
    "from sklearn.metrics import precision_score, recall_score, f1_score\n",
    "\n",
    "print('Precision of Random Forest Classifier: {:.2f}'.format(precision_score(y_test, y_test_pred))) #243/(243+137)\n",
    "print('Recall of Random Forest Classifier: {:.2f}'.format(recall_score(y_test, y_test_pred))) #243/(662+243)\n",
    "print('F1 score of Random Forest Classifier: {:.2f}'.format(f1_score(y_test, y_test_pred)))"
   ]
  },
  {
   "cell_type": "code",
   "execution_count": 55,
   "id": "7f25368b",
   "metadata": {},
   "outputs": [
    {
     "data": {
      "image/png": "[encoded data removed]",
      "text/plain": [
       "<Figure size 432x288 with 1 Axes>"
      ]
     },
     "metadata": {
      "needs_background": "light"
     },
     "output_type": "display_data"
    },
    {
     "data": {
      "text/plain": [
       "0.7903455793340142"
      ]
     },
     "execution_count": 55,
     "metadata": {},
     "output_type": "execute_result"
    }
   ],
   "source": [
    "# The ROC Curve\n",
    "from sklearn.metrics import roc_curve\n",
    "from sklearn.metrics import roc_auc_score\n",
    "#from sklearn.model_selection import cross_val_score\n",
    "\n",
    "y_test_pred_prob = rfc.predict_proba(X_test)\n",
    "fpr, tpr, thresholds = roc_curve(y_test, y_test_pred_prob[:,1])\n",
    "\n",
    "def plot_roc_curve(fpr, tpr, label = None):\n",
    "    plt.plot(fpr, tpr, linewidth = 2, label = label)\n",
    "    plt.plot([0,1], [0,1], 'k--')\n",
    "    [...]\n",
    "    \n",
    "plot_roc_curve(fpr, tpr)\n",
    "plt.show()\n",
    "\n",
    "#print(cross_val_score(rfc, X_test, y_test, cv=5, scoring='roc_auc').mean())\n",
    "roc_auc_score(y_test, y_test_pred_prob[:,1])"
   ]
  },
  {
   "cell_type": "code",
   "execution_count": 298,
   "id": "8740c405",
   "metadata": {},
   "outputs": [
    {
     "name": "stdout",
     "output_type": "stream",
     "text": [
      "              precision    recall  f1-score   support\n",
      "\n",
      "           0       0.92      0.98      0.95      7471\n",
      "           1       0.65      0.27      0.38       905\n",
      "\n",
      "    accuracy                           0.91      8376\n",
      "   macro avg       0.79      0.63      0.67      8376\n",
      "weighted avg       0.89      0.91      0.89      8376\n",
      "\n",
      "Accuracy: 0.9057\n"
     ]
    }
   ],
   "source": [
    "# Classification Report\n",
    "from sklearn.metrics import classification_report\n",
    "print(classification_report(y_test, y_test_pred))\n",
    "print('Accuracy: {:.4f}'.format(rfc.score(X_test, y_test)))"
   ]
  },
  {
   "cell_type": "code",
   "execution_count": null,
   "id": "557acb51",
   "metadata": {},
   "outputs": [],
   "source": []
  }
 ],
 "metadata": {
  "kernelspec": {
   "display_name": "eods-s22",
   "language": "python",
   "name": "eods-s22"
  },
  "language_info": {
   "codemirror_mode": {
    "name": "ipython",
    "version": 3
   },
   "file_extension": ".py",
   "mimetype": "text/x-python",
   "name": "python",
   "nbconvert_exporter": "python",
   "pygments_lexer": "ipython3",
   "version": "3.9.9"
  }
 },
 "nbformat": 4,
 "nbformat_minor": 5
}
